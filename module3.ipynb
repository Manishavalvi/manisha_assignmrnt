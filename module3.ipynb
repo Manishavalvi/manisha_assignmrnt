{
 "cells": [
  {
   "cell_type": "code",
   "execution_count": null,
   "id": "eb12a4fa",
   "metadata": {},
   "outputs": [],
   "source": [
    "#1.What is List? How will you reverse a list?\n",
    "list1 = [11,55,10,9,20]\n",
    "list1.reverse()\n",
    "print(list1)"
   ]
  },
  {
   "cell_type": "code",
   "execution_count": null,
   "id": "5d4ca49d",
   "metadata": {},
   "outputs": [],
   "source": [
    "#2.How will you remove last object from a list?\n",
    "list1 = [10,20,30,40,50,60]\n",
    "list1.pop()\n",
    "print(list1)"
   ]
  },
  {
   "cell_type": "code",
   "execution_count": null,
   "id": "c78be99d",
   "metadata": {},
   "outputs": [],
   "source": [
    "#3.Suppose list1 is [2, 33, 222, 14, and 25], what is list1 [-1]?\n",
    "list1 = [2,33,222,14,25]\n",
    "print(list1[-1])"
   ]
  },
  {
   "cell_type": "code",
   "execution_count": null,
   "id": "67faaf5e",
   "metadata": {},
   "outputs": [],
   "source": [
    "#4.Differentiate between append () and extend () methods?\n",
    ".append() adds a single element to the end of the list while \n",
    ".extend() can add multiple individual elements to the end of the list."
   ]
  },
  {
   "cell_type": "code",
   "execution_count": null,
   "id": "c250c4c5",
   "metadata": {},
   "outputs": [],
   "source": [
    "#5.Write a Python function to get the largest number,smallest num and sum of all from a list.\n",
    "mylist = []\n",
    "n = int(input('How many elements: '))\n",
    "for n in range(n):\n",
    "    element = int(input('Enter element '))\n",
    "    mylist.append(element)\n",
    "print(\"Maximum:\", max(mylist))\n",
    "print(\"Minimum:\", min(mylist))"
   ]
  },
  {
   "cell_type": "code",
   "execution_count": null,
   "id": "91cdb21d",
   "metadata": {},
   "outputs": [],
   "source": [
    "#6.How will you compare two lists?\n",
    "the cmp() function\n",
    "The set() function and == operator\n",
    "The sort() function and == operator\n",
    "The collection.counter() function\n",
    "The reduce() and map() function\n",
    "#1.using set\n",
    "\n",
    "list1 = [11, 12, 13, 14, 15]  \n",
    "list2 = [12, 13, 11, 15, 14]  \n",
    "  \n",
    "a = set(list1)  \n",
    "b = set(list2)  \n",
    "  \n",
    "if a == b:  \n",
    "    print(\"The list1 and list2 are equal\")  \n",
    "else:  \n",
    "    print(\"The list1 and list2 are not equal\")  \n",
    "    "
   ]
  },
  {
   "cell_type": "code",
   "execution_count": null,
   "id": "33ca1e08",
   "metadata": {},
   "outputs": [],
   "source": [
    "#7.Write a Python program to count the number of strings \n",
    "#where the string length is 2 or more and the first and last character are same from a given list of strings.\n",
    "def match_words(words):  \n",
    "  ctr = 0  \n",
    "  \n",
    "  for w in words:  \n",
    "    if len(w) > 1 and w[0] == w[-1]:  \n",
    "      ctr += 1  \n",
    "  return ctr  \n",
    "  \n",
    "print(match_words(['abc', 'xyz', 'aba', '1221'])) "
   ]
  },
  {
   "cell_type": "code",
   "execution_count": null,
   "id": "4c36bed3",
   "metadata": {},
   "outputs": [],
   "source": [
    "#8.Write a Python program to remove duplicates from a list.\n",
    "list1 = [1,2,3,4,5,6,2,3,7,5,6,8,9,10]\n",
    "s1 = set(list1)\n",
    "s1 = list(s1)\n",
    "print(s1)\n"
   ]
  },
  {
   "cell_type": "code",
   "execution_count": null,
   "id": "01cf0e3b",
   "metadata": {},
   "outputs": [],
   "source": [
    "#9.Write a Python program to check a list is empty or not.\n",
    "a = int(input())\n",
    "list1 = [1,2,3,4,5,6]\n",
    "if a in list1:\n",
    "    print(\"not empty list\")\n",
    "else:\n",
    "    print(\"empty list\")\n"
   ]
  },
  {
   "cell_type": "code",
   "execution_count": null,
   "id": "5d18327b",
   "metadata": {},
   "outputs": [],
   "source": [
    "#10.Write a Python function that takes two lists and returns true if they have at least one common member.\n",
    "list1 = [1,2,3,4,5]\n",
    "list2 = [5,6,7,8,9]\n",
    "def common_data(list1, list2):\n",
    "     retsult = False\n",
    "     for x in list1:\n",
    "         for y in list2:\n",
    "             if x == y:\n",
    "                 result = True\n",
    "                 return result\n",
    "            \n",
    "print(common_data(list1,list2)) "
   ]
  },
  {
   "cell_type": "code",
   "execution_count": null,
   "id": "e05bc7f7",
   "metadata": {},
   "outputs": [],
   "source": [
    "#11.Write a Python program to generate and print a list of first and last 5 \n",
    "#elements where the values are square of numbers between 1 and 30.\n",
    "def printValues():\n",
    "    list1 = []\n",
    "    for i in range(1,31):\n",
    "        list1.append(i**2)\n",
    "    print(list1)\n",
    " \n",
    "printValues()"
   ]
  },
  {
   "cell_type": "code",
   "execution_count": null,
   "id": "302662af",
   "metadata": {},
   "outputs": [],
   "source": [
    "#12.Write a Python function that takes a list and returns a new list with unique \n",
    "#elements of the first list.\n",
    "def unique_list(list1):\n",
    "  list2 = []\n",
    "  for i in list1:\n",
    "    if i not in list2:\n",
    "      list2.append(i)\n",
    "  return list2\n",
    "\n",
    "print(unique_list([1,2,3,3,3,3,4,5])) \n",
    "\n"
   ]
  },
  {
   "cell_type": "code",
   "execution_count": null,
   "id": "93955486",
   "metadata": {},
   "outputs": [],
   "source": [
    "#13.Write a Python program to convert a list of characters into a string.\n",
    "s = ['a', 'b', 'c', 'd']\n",
    "str1 = ''.join(s)\n",
    "print(str1)\n"
   ]
  },
  {
   "cell_type": "code",
   "execution_count": null,
   "id": "559cc67d",
   "metadata": {},
   "outputs": [],
   "source": [
    "#14.Write a Python program to select an item randomly from a list.\n",
    "import random\n",
    "color_list = ['Red', 'Blue', 'Green', 'White', 'Black']\n",
    "print(random.choice(color_list))\n"
   ]
  },
  {
   "cell_type": "code",
   "execution_count": null,
   "id": "c592f42a",
   "metadata": {},
   "outputs": [],
   "source": [
    "#15.Write a Python program to find the second smallest number in a list.\n",
    "list1 = [] \n",
    "n = int(input(\"Enter the number of elements: \"))\n",
    "for i in range(1, n+1): \n",
    "    elements = int(input(\"Enter the elements: \")) \n",
    "    list1.append(elements) \n",
    "list1.sort() \n",
    "\n",
    "print(\"The sorted list: \", list1) \n",
    "print(\"The second smallest number is: \",list1[1])"
   ]
  },
  {
   "cell_type": "code",
   "execution_count": null,
   "id": "30f824e1",
   "metadata": {},
   "outputs": [],
   "source": [
    "#16.Write a Python program to get unique values from a list\n",
    "list1 = [10, 20, 30, 40, 20, 50, 60, 40]\n",
    "print(\"Original List : \",list1)\n",
    "s1 = set(list1)\n",
    "new_list2 = list(s1)\n",
    "print(\"List of unique numbers : \",new_list2)\n"
   ]
  },
  {
   "cell_type": "code",
   "execution_count": null,
   "id": "ec1efd48",
   "metadata": {},
   "outputs": [],
   "source": [
    "#17. Write a Python program to check whether a list contains a sub list\n",
    "list1 = [5, 6, 3, 8, 2, 1, 7, 1]\n",
    " \n",
    "print(\"original list : \" + str(list1))\n",
    " \n",
    "sublist = [3, 8, 2]\n",
    "\n",
    "res = False\n",
    "for idx in range(len(list1) - len(sublist) + 1):\n",
    "        if list1[idx : idx + len(sublist)] == sublist:\n",
    "            res = True\n",
    "            break\n",
    "         \n",
    "print(\"available: \" + str(res))\n"
   ]
  },
  {
   "cell_type": "code",
   "execution_count": null,
   "id": "86e600e9",
   "metadata": {},
   "outputs": [],
   "source": [
    "#18.Write a Python program to split a list into different variables.\n",
    "list1 = [(\"yes\",\"no\",\"good\"), (\"no\",\"yes\",\"good\"),(\"school\",\"clg\",\"garden\")]\n",
    "var1, var2, var3 = list1\n",
    "print(var1)\n",
    "print(var2)\n",
    "print(var3)\n"
   ]
  },
  {
   "cell_type": "code",
   "execution_count": null,
   "id": "bdf0750f",
   "metadata": {},
   "outputs": [],
   "source": [
    "#19.What is tuple? Difference between list and tuple.\n",
    "List vs Tuple. Tuples are immutable, whereas lists are mutable, and this is the main distinction between the two. \n",
    "The values in a list can be changed or modified, while the values of a tuple cannot."
   ]
  },
  {
   "cell_type": "code",
   "execution_count": null,
   "id": "5ef380ab",
   "metadata": {},
   "outputs": [],
   "source": [
    "#20.Write a Python program to create a tuple with different data types.\n",
    "tuple1 = (1,2.3,\"mahi\",False)\n",
    "print(tuple1)"
   ]
  },
  {
   "cell_type": "code",
   "execution_count": null,
   "id": "1aa768d4",
   "metadata": {},
   "outputs": [],
   "source": [
    "#21.Write a Python program to create a tuple with numbers.\n",
    "tuple1 = 5, 10, 15, 20, 25\n",
    "print(tuple1)\n",
    "\n",
    "tuple2 = 5,\n",
    "print(tuple2)\n"
   ]
  },
  {
   "cell_type": "code",
   "execution_count": null,
   "id": "eb08c345",
   "metadata": {},
   "outputs": [],
   "source": [
    "#22.Write a Python program to convert a tuple to a string.\n",
    "tuple1 = ('m', 'a', 'n', 'i', 's', 'h', 'a', ' ', 'v','a','l','v','i')\n",
    "str1 =  ''.join(tuple1)\n",
    "print(str1)\n"
   ]
  },
  {
   "cell_type": "code",
   "execution_count": null,
   "id": "93002bf4",
   "metadata": {},
   "outputs": [],
   "source": [
    "#23.Write a Python program to check whether an element exists within a tuple.\n",
    "tuple1 = (\"m\", 3, \"a\", \"n\", \"i\", \"s\", \"h\", \"a\", \"m\", \"v\")\n",
    "print(\"m\" in tuple1)\n",
    "print(5 in tuple1)\n"
   ]
  },
  {
   "cell_type": "code",
   "execution_count": null,
   "id": "3af12592",
   "metadata": {},
   "outputs": [],
   "source": [
    "#24.Write a Python program to find the length of a tuple.\n",
    "tuple1 =(\"manishavalvi\")\n",
    "print(tuple1)\n",
    "print(len(tuple1))\n"
   ]
  },
  {
   "cell_type": "code",
   "execution_count": null,
   "id": "90ed8730",
   "metadata": {},
   "outputs": [],
   "source": [
    "#25.Write a Python program to convert a list to a tuple.\n",
    "#1.using function\n",
    "\n",
    "def convert(list1):\n",
    "    return tuple(list1)\n",
    "\n",
    "list1 = [1, 2, 3, 4]\n",
    "print(tuple(list1))\n",
    "\n",
    "\n",
    "#2.\n",
    "list1 = [5, 10, 7, 4, 15, 3]\n",
    "tuple1 =tuple(list1)\n",
    "print(tuple1)\n"
   ]
  },
  {
   "cell_type": "code",
   "execution_count": null,
   "id": "8e59f383",
   "metadata": {},
   "outputs": [],
   "source": [
    "#26.Write a Python program to reverse a tuple.\n",
    "x = (\"manisha\")\n",
    "y = reversed(x)\n",
    "print(list(y))\n",
    "\n",
    "x = (5, 10, 15, 20)\n",
    "y = reversed(x)\n",
    "print(list(y))\n",
    "\n"
   ]
  },
  {
   "cell_type": "code",
   "execution_count": null,
   "id": "49b655b8",
   "metadata": {},
   "outputs": [],
   "source": [
    "#27.Write a Python program to replace last value of tuples in a list.\n",
    "list1 = [(10, 20, 40), (40, 50, 60), (70, 80, 90)]\n",
    "print([t[:-1] + (100,) for t in list1])\n"
   ]
  },
  {
   "cell_type": "code",
   "execution_count": null,
   "id": "d11bf260",
   "metadata": {},
   "outputs": [],
   "source": [
    "#28.Write a Python program to find the repeated items of a tuple.\n",
    "tuple1 = 2, 4, 5, 6, 2, 3, 4, 4, 7 \n",
    "a = int(input())\n",
    "\n",
    "count = tuple1.count(a)\n",
    "print(count)\n"
   ]
  },
  {
   "cell_type": "code",
   "execution_count": null,
   "id": "7b90dde4",
   "metadata": {},
   "outputs": [],
   "source": [
    "#29.Write a Python program to remove an empty tuple(s) from a list of tuples.\n",
    "def Remove(tuples):\n",
    "    for i in tuples:\n",
    "        if(i==()):\n",
    "            tuples.remove(i)\n",
    "    return tuples\n",
    "\n",
    "tuples = [(), ('mahi'), (), ('aarav','10'),\n",
    "        ('krishna', '45'), ('',''),()]\n",
    "print(Remove(tuples))"
   ]
  },
  {
   "cell_type": "code",
   "execution_count": null,
   "id": "d9ea5f36",
   "metadata": {},
   "outputs": [],
   "source": [
    "#30.Write a Python program to unzip a list of tuples into individual lists.\n",
    "\n",
    "list1 = [(1,2), (3,4), (8,9)]\n",
    "print(list(zip(*list1)))\n"
   ]
  },
  {
   "cell_type": "code",
   "execution_count": null,
   "id": "34e11aa8",
   "metadata": {},
   "outputs": [],
   "source": [
    "#31.Write a Python program to convert a list of tuples into a dictionary.\n",
    "#create a list\n",
    "list1 = [(\"x\", 1), (\"x\", 2), (\"x\", 3), (\"y\", 1), (\"y\", 2), (\"z\", 1)]\n",
    "d = {}\n",
    "for a, b in list1:\n",
    "    d.setdefault(a, []).append(b)\n",
    "print (d)\n"
   ]
  },
  {
   "cell_type": "code",
   "execution_count": null,
   "id": "d4c2535d",
   "metadata": {},
   "outputs": [],
   "source": [
    "#32.How will you create a dictionary using tuples in python?\n",
    "tuple1 = ((11, \"eleven\"), (21, \"mike\"), (19, \"dustin\"), (46, \"caleb\"))\n",
    "print(tuple1)\n",
    "\n",
    "dict1 = dict(map(reversed, tuple1))\n",
    "print(dict1)"
   ]
  },
  {
   "cell_type": "code",
   "execution_count": null,
   "id": "7e79abf0",
   "metadata": {},
   "outputs": [],
   "source": [
    "#33.Write a Python script to sort (ascending and descending) a dictionary by value.\n",
    "my_dict = {'mahi': '1', 'neel': '4',\n",
    "           'yash': '2', 'bhavu': '3'}\n",
    " \n",
    "print(\"Sorted dictionary is :\")\n",
    "for i in sorted(my_dict, key = my_dict.get):\n",
    "    print(i, my_dict[i])"
   ]
  },
  {
   "cell_type": "code",
   "execution_count": null,
   "id": "de3bdce3",
   "metadata": {},
   "outputs": [],
   "source": [
    "#34.Write a Python script to concatenate following dictionaries to create a new one.\n",
    "dict1={1:10, 2:20}\n",
    "dict2={3:30, 4:40}\n",
    "dict3={5:50,6:60}\n",
    "dict4 = {}\n",
    "for i in (dict1, dict2, dict3):\n",
    "    dict4.update(i)\n",
    "print(dict4)\n",
    "\n"
   ]
  },
  {
   "cell_type": "code",
   "execution_count": null,
   "id": "ca93527b",
   "metadata": {},
   "outputs": [],
   "source": [
    "#35.Write a Python script to check if a given key already exists in a dictionary.\n",
    "\n",
    "dict1 = {1: 10, 2: 20, 3: 30, 4: 40, 5: 50, 6: 60}\n",
    "def present(x):\n",
    "  if x in dict1:\n",
    "      print('Key is present')\n",
    "  else:\n",
    "      print('Key is not present')\n",
    "present(5)\n",
    "present(9)\n"
   ]
  },
  {
   "cell_type": "code",
   "execution_count": null,
   "id": "15afdb63",
   "metadata": {},
   "outputs": [],
   "source": [
    "#36.How Do You Traverse Through A Dictionary Object In Python?\n",
    "There are two ways of iterating through a Python dictionary object. \n",
    "One is to fetch associated value for each key in keys() list.\n",
    "There is also items() method of dictionary object which returns list of tuples, each tuple having key and value."
   ]
  },
  {
   "cell_type": "code",
   "execution_count": null,
   "id": "652f9035",
   "metadata": {},
   "outputs": [],
   "source": [
    "#37.How Do You Check The Presence Of A Key In A Dictionary?\n",
    "\n",
    "dict1 = {'a': 100, 'b':200, 'c':300}\n",
    " \n",
    "if dict1.get('b') == None:\n",
    " \n",
    "  print(\"Not Present\")\n",
    " \n",
    "else:\n",
    " \n",
    "  print(\"Present\")"
   ]
  },
  {
   "cell_type": "code",
   "execution_count": null,
   "id": "2060d956",
   "metadata": {},
   "outputs": [],
   "source": [
    "#38.Write a Python script to print a dictionary where the keys are numbers between 1 and 15.\n",
    "\n",
    "d = {}\n",
    "\n",
    "for x in range(1,16):\n",
    "    d[x]=x**2\n",
    "print(d)  \n"
   ]
  },
  {
   "cell_type": "code",
   "execution_count": null,
   "id": "6feedb7f",
   "metadata": {},
   "outputs": [],
   "source": [
    "#39.Write a Python program to check multiple keys exists in a dictionary\n",
    "student = {'name': 'Alex','class': 'V','roll_id': '2'}\n",
    "print(student.keys() >= {'class', 'name'})\n",
    "print(student.keys() >= {'name', 'Alex'})\n",
    "print(student.keys() >= {'roll_id', 'name'})\n"
   ]
  },
  {
   "cell_type": "code",
   "execution_count": null,
   "id": "358fdb44",
   "metadata": {},
   "outputs": [],
   "source": [
    "#40.Write a Python script to merge two Python dictionaries\n",
    "\n",
    "d1 = {'a': 100, 'b': 200}\n",
    "d2 = {'x': 300, 'y': 200}\n",
    "d = d1.copy()\n",
    "d.update(d2)\n",
    "print(d)\n"
   ]
  },
  {
   "cell_type": "code",
   "execution_count": null,
   "id": "cfc4e1ee",
   "metadata": {},
   "outputs": [],
   "source": [
    "#41.Write a Python program to map two lists into a dictionary\n",
    "keys = ['mahi', 'kusum', 'neel']\n",
    "values = ['bhavu','aarav', 'smit']\n",
    "dict1 = dict(zip(keys, values))\n",
    "print(dict1)\n"
   ]
  },
  {
   "cell_type": "code",
   "execution_count": null,
   "id": "94bb22d6",
   "metadata": {},
   "outputs": [],
   "source": [
    "#42.Write a Python program to combine two dictionary adding values for common keys.\n",
    "# d1 = {'a': 100, 'b': 200, 'c':300}\n",
    "# d2 = {'a': 300, 'b': 200,’d’:400}\n",
    "\n",
    "from collections import Counter\n",
    "\n",
    "d1 = {'a': 100, 'b': 200, 'c':300}\n",
    "d2 = {'a': 300, 'b': 200, 'd':400}\n",
    "d = Counter(d1) + Counter(d2)\n",
    "print(d)\n"
   ]
  },
  {
   "cell_type": "code",
   "execution_count": null,
   "id": "82fdd355",
   "metadata": {},
   "outputs": [],
   "source": [
    "#43.Write a Python program to print all unique values in a dictionary.\n",
    "\n",
    "dict1 = {'5':'mahi','6':'mahi','7':'aarav','8':'aarav','9':'misha'}\n",
    "list1 =[] \n",
    "for i in dict1.values(): \n",
    "  if i in list1: \n",
    "    continue \n",
    "  else:\n",
    "    list1.append(i)\n",
    "\n",
    "print(list1)"
   ]
  },
  {
   "cell_type": "code",
   "execution_count": null,
   "id": "b1381d81",
   "metadata": {},
   "outputs": [],
   "source": [
    "#44.Why Do You Use the Zip () Method in Python?\n",
    "The zip() function returns a zip object, which is an iterator of tuples where the first item\n",
    "in each passed iterator is paired together,\n",
    "and then the second item in each passed iterator are paired together "
   ]
  },
  {
   "cell_type": "code",
   "execution_count": 26,
   "id": "a8ffd1d4",
   "metadata": {},
   "outputs": [
    {
     "name": "stdout",
     "output_type": "stream",
     "text": [
      "ac ad bc bd "
     ]
    }
   ],
   "source": [
    "#45.Write a Python program to create and display all combinations of letters,\n",
    "#selecting each letter from a different key in a dictionary.\n",
    "# Sample data: {'1': ['a','b'], '2': ['c','d']}\n",
    "# Expected Output:\n",
    "# ac ad bc bd\n",
    "\n",
    "    \n",
    "dict1 ={'1':['a','b'], '2':['c','d']}\n",
    "    \n",
    "for x in dict1['1']:\n",
    "    for y in dict1['2']:\n",
    "        print(x + y,end=' ')"
   ]
  },
  {
   "cell_type": "code",
   "execution_count": null,
   "id": "8129aaf5",
   "metadata": {},
   "outputs": [],
   "source": [
    "#46.Write a Python program to find the highest 3 values in a dictionary\n",
    "dict1 = {\"A\":12,\"B\":13,\"C\":9,\"D\":89,\"E\":34,\"F\":17,\"G\":65,\"H\":36,\"I\":25,\"J\":11}\n",
    "\n",
    "list1 = []\n",
    "\n",
    "for i in dict1.values():\n",
    "    list1.append(i)\n",
    "    list1.sort()\n",
    "\n",
    "print(\"Highest value:\",list1[-1])\n",
    "print(\"Second highest value:\",list1[-2])\n",
    "print(\"Third highest value:\",list1[-3])\n",
    "\n"
   ]
  },
  {
   "cell_type": "code",
   "execution_count": null,
   "id": "6ef55478",
   "metadata": {},
   "outputs": [],
   "source": [
    "#47.Write a Python program to combine values in python list of dictionaries.\n",
    "#Sample data: [{'item': 'item1', 'amount': 400}, {'item': 'item2', 'amount':300},{'item': 'item1', 'amount': 750}]\n",
    "#Expected Output: Counter ({'item1': 1150, 'item2': 300})\n",
    "from collections import Counter\n",
    "\n",
    "list1 = [{'item': 'item1', 'amount': 400}, {'item': 'item2', 'amount': 300}, {'item': 'item1', 'amount': 750}]\n",
    "result = Counter()\n",
    "\n",
    "for i in list1:\n",
    "    \n",
    "    result[i['item']] += i['amount']\n",
    "    \n",
    "print(result) \n"
   ]
  },
  {
   "cell_type": "code",
   "execution_count": null,
   "id": "6540a8a4",
   "metadata": {},
   "outputs": [],
   "source": [
    "#48.Write a Python program to create a dictionary from a string.\n",
    "#Note: Track the count of the letters from the string. Sample string:\n",
    "#'w3resource'\n",
    "#Expected output: {'3': 1,’s’: 1, 'r': 2, 'u': 1, 'w': 1, 'c': 1, 'e': 2, 'o': 1}\n",
    "str1 = 'w3resource'\n",
    "dict1 = {}\n",
    "\n",
    "for char in str1:\n",
    "    if char in dict1:\n",
    "        dict1[char] += 1\n",
    "    else:\n",
    "        dict1[char] = 1\n",
    "\n",
    "print(dict1)\n"
   ]
  },
  {
   "cell_type": "code",
   "execution_count": null,
   "id": "589cbe1b",
   "metadata": {},
   "outputs": [],
   "source": [
    "#49.Write a Python function to calculate the factorial of a number (a nonnegative integer)\n",
    "def factorial(n):\n",
    "    if n == 0:\n",
    "        return 1\n",
    "    else:\n",
    "        return n * factorial(n-1)\n",
    "n=int(input(\"Input a number: \"))\n",
    "print(factorial(n))\n"
   ]
  },
  {
   "cell_type": "code",
   "execution_count": null,
   "id": "9aefc7d6",
   "metadata": {},
   "outputs": [],
   "source": [
    "#50.Write a Python function to check whether a number is in a given range\n",
    "def given_range(a):\n",
    "    b = input()\n",
    "    if a in range(1,10):\n",
    "        print('in the range')\n",
    "        return a\n",
    "    else:\n",
    "        print('out of range')\n",
    "\n",
    "given_range(9)   #return 9\n",
    "given_range(15) "
   ]
  },
  {
   "cell_type": "code",
   "execution_count": null,
   "id": "c260a82d",
   "metadata": {},
   "outputs": [],
   "source": [
    "#51.Write a Python function to check whether a number is perfect or not.\n",
    "#1.usinf function\n",
    "\n",
    "def perfect_number(n):\n",
    "    sum = 0\n",
    "    for i in range(1, n):\n",
    "        if n % i == 0:\n",
    "            sum += i\n",
    "    return sum == n\n",
    "print(perfect_number(6))#(1+2+3+6)/2=6"
   ]
  },
  {
   "cell_type": "code",
   "execution_count": null,
   "id": "99117608",
   "metadata": {},
   "outputs": [],
   "source": [
    "#52.Write a Python function that checks whether a passed string is palindrome or not.\n",
    "\n",
    "def palindrome():\n",
    "    a = input()\n",
    "    str1 = \"nayan\",\"madam\",\"maam\"\n",
    "    if a in str1:\n",
    "        print('palindrome')\n",
    "    else:\n",
    "        print('not palindrome')\n",
    "        return \n",
    "                      \n",
    "palindrome()\n"
   ]
  },
  {
   "cell_type": "code",
   "execution_count": null,
   "id": "96cc828f",
   "metadata": {},
   "outputs": [],
   "source": [
    "#53.How do you perform pattern matching in Python? Explain\n",
    "When pattern matching, we assert that a certain piece of data is equal to a certain pattern. \n",
    "For example, in the function: head (element:list) = element.\n",
    "We assert that the first element of head 's argument is called element, and the function returns this."
   ]
  },
  {
   "cell_type": "code",
   "execution_count": null,
   "id": "b3f02a29",
   "metadata": {},
   "outputs": [],
   "source": [
    "#54.What is lambda function in python? What we call a function which is incomplete version of a function?\n",
    "Lambda Function, also referred to as'Anonymous function'is same as a regular python function but can be defined without a name.\n",
    "While normal functions are defined using the def keyword, anonymous functions are defined using the lambda keyword. \n",
    "However,they are restricted to single line of expression."
   ]
  },
  {
   "cell_type": "code",
   "execution_count": null,
   "id": "3b2e3b93",
   "metadata": {},
   "outputs": [],
   "source": [
    "#55. How Many Basic Types Of Functions Are Available In Python?\n",
    "There are two basic types of functions:\n",
    "1.built-in functions.\n",
    "2.user defined functions.\n",
    "3.anonymous functions."
   ]
  },
  {
   "cell_type": "code",
   "execution_count": null,
   "id": "dd043689",
   "metadata": {},
   "outputs": [],
   "source": [
    "#56.How can you pick a random item from a list or tuple?\n",
    "import random\n",
    "list1 = [1,2,'mahi','max',12.0]\n",
    "random.choice(list1)"
   ]
  },
  {
   "cell_type": "code",
   "execution_count": null,
   "id": "e01585df",
   "metadata": {},
   "outputs": [],
   "source": [
    "#57.How can you pick a random item from a range?\n",
    "import random\n",
    "l1 = random.randrange(1,99)\n",
    "print(l1)"
   ]
  },
  {
   "cell_type": "code",
   "execution_count": null,
   "id": "a91a210d",
   "metadata": {},
   "outputs": [],
   "source": [
    "#58.How can you get a random number in python?\n",
    "#Generating random number list in Python using random().\n",
    "import random\n",
    "num = random.random()\n",
    "print(num)"
   ]
  },
  {
   "cell_type": "code",
   "execution_count": 17,
   "id": "2c39edb0",
   "metadata": {},
   "outputs": [
    {
     "name": "stdout",
     "output_type": "stream",
     "text": [
      "0.5714025946899135\n"
     ]
    }
   ],
   "source": [
    "#59.How will you set the starting value in generating random numbers?\n",
    "#The random number generator needs a number to start with (a seed value),\n",
    "# to be able to generate a random number.\n",
    "# By default the random number generator uses the current system time.\n",
    "# Use the seed() method to customize the start number of the random number generator.\n",
    "import random\n",
    "random.seed(10)\n",
    "print(random.random())\n"
   ]
  },
  {
   "cell_type": "code",
   "execution_count": null,
   "id": "c906e278",
   "metadata": {},
   "outputs": [],
   "source": [
    "#60.How will you randomizes the items of a list in place?\n",
    "#The shuffle() method randomizes the items of a list in place.\n",
    "import random\n",
    "list1 = [1,2,3,4,5,6,7,8,9]\n",
    "random.shuffle(list1)\n",
    "print(list1)"
   ]
  },
  {
   "cell_type": "code",
   "execution_count": null,
   "id": "2b25882a",
   "metadata": {},
   "outputs": [],
   "source": [
    "#61.Write a Python program to read a random line from a file.\n",
    "import random\n",
    "def random_line(module3):\n",
    "    lines = open(module3).read().splitlines()\n",
    "    return random.choice(lines)\n",
    "print(random_line('test.txt'))\n"
   ]
  },
  {
   "cell_type": "code",
   "execution_count": null,
   "id": "337369e7",
   "metadata": {},
   "outputs": [],
   "source": [
    "#62.Write a Python program to convert degree to radian\n",
    "pi=22/7\n",
    "degree = float(input(\"Input degrees: \"))\n",
    "radian = degree*(pi/180)\n",
    "print(radian)\n"
   ]
  },
  {
   "cell_type": "code",
   "execution_count": 18,
   "id": "7aeb1650",
   "metadata": {},
   "outputs": [
    {
     "name": "stdout",
     "output_type": "stream",
     "text": [
      "Base one value: 5\n",
      "Base two value: 5\n",
      "Height of trapezoid: 5\n"
     ]
    },
    {
     "data": {
      "text/plain": [
       "25.0"
      ]
     },
     "execution_count": 18,
     "metadata": {},
     "output_type": "execute_result"
    }
   ],
   "source": [
    "#63.Write a Python program to calculate the area of a trapezoid\n",
    "area = lambda :((a + b) / 2) * h\n",
    "a = float(input('Base one value: '))\n",
    "b = float(input('Base two value: '))\n",
    "h = float(input(\"Height of trapezoid: \"))\n",
    "\n",
    "area()\n"
   ]
  },
  {
   "cell_type": "code",
   "execution_count": 19,
   "id": "fdcd045c",
   "metadata": {},
   "outputs": [
    {
     "name": "stdout",
     "output_type": "stream",
     "text": [
      "Length of base: 5\n",
      "Measurement of height: 5\n"
     ]
    },
    {
     "data": {
      "text/plain": [
       "25.0"
      ]
     },
     "execution_count": 19,
     "metadata": {},
     "output_type": "execute_result"
    }
   ],
   "source": [
    "#64.Write a Python program to calculate the area of a parallelogram\n",
    "area = lambda: base * height\n",
    "base = float(input('Length of base: '))\n",
    "height = float(input('Measurement of height: '))\n",
    "\n",
    "area()\n"
   ]
  },
  {
   "cell_type": "code",
   "execution_count": 20,
   "id": "96149a36",
   "metadata": {},
   "outputs": [
    {
     "name": "stdout",
     "output_type": "stream",
     "text": [
      "Height of cylinder: 5\n",
      "Radius of cylinder: 5\n",
      "392.85714285714283\n",
      "Height of cylinder: 5\n",
      "Radius of cylinder: 5\n",
      "314.2857142857143\n"
     ]
    }
   ],
   "source": [
    "#65.Write a Python program to calculate surface volume and area of a cylinder.\n",
    "pi=22/7\n",
    "volume = lambda : pi * r * r * h\n",
    "h = float(input('Height of cylinder: '))\n",
    "r = float(input('Radius of cylinder: '))\n",
    "print(volume())\n",
    "\n",
    "sur_area = lambda:((2*pi*r) * h) + ((pi*r**2)*2)\n",
    "h = float(input('Height of cylinder: '))\n",
    "r = float(input('Radius of cylinder: '))\n",
    "print(sur_area())\n"
   ]
  },
  {
   "cell_type": "code",
   "execution_count": null,
   "id": "9661708e",
   "metadata": {},
   "outputs": [],
   "source": [
    "#66.Write a Python program to returns sum of all divisors of a number\n",
    "def sum_div(number):\n",
    "    divisors = [1]\n",
    "    for i in range(2, number):\n",
    "        if (number % i)==0:\n",
    "            divisors.append(i)\n",
    "    return sum(divisors)\n",
    "# print(sum_div(8))\n",
    "# print(sum_div(12))\n",
    "number = int(input())\n",
    "print(sum_div(number))"
   ]
  },
  {
   "cell_type": "code",
   "execution_count": null,
   "id": "b00a29f1",
   "metadata": {},
   "outputs": [],
   "source": [
    "#67.Write a Python program to find the maximum and minimum numbers from the specified decimal numbers.\n",
    "list1 = [1.01,2.01, 3.01, 4.01, 0.01, 0.04, 5.25]\n",
    "print(\"Maximum: \", max(list1))\n",
    "print(\"Minimum: \", min(list1))\n"
   ]
  }
 ],
 "metadata": {
  "kernelspec": {
   "display_name": "Python 3 (ipykernel)",
   "language": "python",
   "name": "python3"
  },
  "language_info": {
   "codemirror_mode": {
    "name": "ipython",
    "version": 3
   },
   "file_extension": ".py",
   "mimetype": "text/x-python",
   "name": "python",
   "nbconvert_exporter": "python",
   "pygments_lexer": "ipython3",
   "version": "3.9.12"
  },
  "vscode": {
   "interpreter": {
    "hash": "5e550c0af2fc0732fb5ad41c336bb278b1713c362bf12139896ee95ee2b497d2"
   }
  }
 },
 "nbformat": 4,
 "nbformat_minor": 5
}
