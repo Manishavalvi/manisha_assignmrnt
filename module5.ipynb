{
 "cells": [
  {
   "cell_type": "code",
   "execution_count": null,
   "id": "331707fb",
   "metadata": {},
   "outputs": [],
   "source": [
    "#1.Why Django should be used for web-development? Explain how you can create a project in Django? \n",
    "\n",
    "Ans:-Django helps the developers to make an application as fast as possible.\n",
    "     Django helps in creating web apps, both cost-effective and efficient. \n",
    "1.python -m venv myenv\n",
    "2.myenv\\Scripts\\activate\n",
    "3.pip install django\n",
    "4.django-admin startproject mysite.\n",
    "5.django-admin startapp mysite\n",
    "6.python manage.py runserver\n"
   ]
  },
  {
   "cell_type": "code",
   "execution_count": null,
   "id": "1d0f5573",
   "metadata": {},
   "outputs": [],
   "source": [
    "#2.How to check installed version of django?\n",
    "\n",
    "Ans:- py -m django --version"
   ]
  },
  {
   "cell_type": "code",
   "execution_count": null,
   "id": "cc0053f7",
   "metadata": {},
   "outputs": [],
   "source": [
    "#3.Explain what does django-admin.py make messages command is used for? \n",
    "Ans:-django-admin is Django’s command-line utility for administrative tasks. \n",
    "    This document outlines all it can do. In addition, manage.py is automatically created in each Django project."
   ]
  },
  {
   "cell_type": "code",
   "execution_count": null,
   "id": "bebf0b36",
   "metadata": {},
   "outputs": [],
   "source": [
    "#4.What is Django URLs?make program to create django urls \n",
    "Ans:-  URLs are the front door to your web application in Django. \n",
    "from django.conf.urls import path, include, url\n",
    "from . import views\n",
    "\n",
    "urlpatterns (\n",
    "    path('index/',views.index,name=\"index\")\n",
    ")"
   ]
  },
  {
   "cell_type": "code",
   "execution_count": null,
   "id": "b979447b",
   "metadata": {},
   "outputs": [],
   "source": [
    "#5.What is a QuerySet?Write program to create a new Post object in database: \n",
    "Ans:--A QuerySet is a collection of data from a database.\n",
    "      A QuerySet is built up as a list of objects.\n",
    "        CREATE TABLE [schema.]table\n",
    "                   (column datatype [DEFAULT expr][, ...]);"
   ]
  },
  {
   "cell_type": "code",
   "execution_count": null,
   "id": "18eb5b34",
   "metadata": {},
   "outputs": [],
   "source": [
    "#6.Mention what command line can be used to load data into Django?\n",
    "Ans:-Django loaddata is a command used for pre-populating database with data, especially during the development phase.\n",
    "Data is loaded from fixture files that represent serialized data.\n",
    "$ django-admin loaddata fixture\n",
    "$ manage.py loaddata fixture\n",
    "$ python -m django loaddata fixture"
   ]
  },
  {
   "cell_type": "code",
   "execution_count": null,
   "id": "26a709e4",
   "metadata": {},
   "outputs": [],
   "source": [
    "#7.There will be 2 modules(Admin,Product manager)\n",
    "Admin can add product name (ex.Product id and product name) \n",
    "ex. (1, Samsung), (2, Apple)...etc. Data should store in Product_mst table with product id as primary key\n",
    "Admin can add product subcategory details Like (Product price, product image,\n",
    "Product model, product Ram) data should store in Product_sub_cat table\n",
    "Admin can get product name as foreign key from product_mst table in product_sub_category_details page\n",
    "Admin can view, update and delete all registered details of product\n",
    "product manager can search product on search bar and get all details about product"
   ]
  }
 ],
 "metadata": {
  "kernelspec": {
   "display_name": "Python 3 (ipykernel)",
   "language": "python",
   "name": "python3"
  },
  "language_info": {
   "codemirror_mode": {
    "name": "ipython",
    "version": 3
   },
   "file_extension": ".py",
   "mimetype": "text/x-python",
   "name": "python",
   "nbconvert_exporter": "python",
   "pygments_lexer": "ipython3",
   "version": "3.9.12"
  }
 },
 "nbformat": 4,
 "nbformat_minor": 5
}
