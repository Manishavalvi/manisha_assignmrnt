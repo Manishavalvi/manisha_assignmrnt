{
 "cells": [
  {
   "cell_type": "code",
   "execution_count": 1,
   "id": "e8bd3fb3",
   "metadata": {},
   "outputs": [
    {
     "name": "stdout",
     "output_type": "stream",
     "text": [
      "enter no:-1\n",
      "negative\n"
     ]
    }
   ],
   "source": [
    "#1.write a python program to check if a number is positive,negative or zero.\n",
    "\n",
    "var1 = int(input(\"enter no:\"))\n",
    "if var1==0:\n",
    "    print('zero')\n",
    "elif var1>0:\n",
    "    print('positive')\n",
    "else :\n",
    "    print('negative')"
   ]
  },
  {
   "cell_type": "code",
   "execution_count": 2,
   "id": "06e1ddf4",
   "metadata": {},
   "outputs": [
    {
     "name": "stdout",
     "output_type": "stream",
     "text": [
      "enter no: 5\n",
      " Factorial number is:  120\n"
     ]
    }
   ],
   "source": [
    "#2.write a python program to get factorial number of given number.\n",
    "n = int(input(\"enter no: \"))\n",
    "fact=1\n",
    "for i in range(1,n+1):\n",
    "    fact = fact * i \n",
    "print(\" Factorial number is: \",fact)"
   ]
  },
  {
   "cell_type": "code",
   "execution_count": null,
   "id": "14922c04",
   "metadata": {},
   "outputs": [],
   "source": [
    "n = int(input(\"Enter any no:\"))\n",
    "f = 1\n",
    "i = n\n",
    "while i >= 1:\n",
    "    f = f * i\n",
    "    i = i - 1\n",
    "print(\"Factorial is :\", f)"
   ]
  },
  {
   "cell_type": "code",
   "execution_count": 3,
   "id": "18da5a2d",
   "metadata": {},
   "outputs": [
    {
     "name": "stdout",
     "output_type": "stream",
     "text": [
      "Enter any number:3\n",
      "0 1 1 "
     ]
    }
   ],
   "source": [
    "#3.Write a Python program to get the Fibonacci series of given range.\n",
    "num = int(input(\"Enter any number:\"))\n",
    "n1,n2=0,1\n",
    "sum=0\n",
    "if num<=0:\n",
    "    print('enter no greater than 0')\n",
    "else:\n",
    "    for i in range(0,num):\n",
    "        print(sum,end=\" \")\n",
    "        n1 = n2\n",
    "        n2 = sum\n",
    "        sum = n1 + n2"
   ]
  },
  {
   "cell_type": "code",
   "execution_count": null,
   "id": "ffae70f3",
   "metadata": {},
   "outputs": [],
   "source": [
    "#4.How memory is managed in Python?\n",
    "ans: Python uses the dynamic memory allocation which is managed by the Heap data structure. Memory Heap holds the objects and other data structures that will be used in the program.\n",
    "    Python memory manager manages the allocation or de-allocation of the heap memory space through the API functions."
   ]
  },
  {
   "cell_type": "code",
   "execution_count": null,
   "id": "091735a2",
   "metadata": {},
   "outputs": [],
   "source": [
    "#5.What is the purpose continue statement in python?\n",
    "ans:The continue statement passes control to the next iteration of the nearest enclosing do , for , or while statement in which it appears, bypassing any remaining statements in the do , for , or while statement body."
   ]
  },
  {
   "cell_type": "code",
   "execution_count": 4,
   "id": "40e9fcf8",
   "metadata": {},
   "outputs": [
    {
     "name": "stdout",
     "output_type": "stream",
     "text": [
      "enter no:2\n",
      "0\n",
      "1\n"
     ]
    }
   ],
   "source": [
    "# 6.write python program that swap two number with variable and without temp variable.\n",
    "#without variable\n",
    "n = int(input(\"enter no:\"))\n",
    "first = 0\n",
    "second = 1\n",
    "for i in range(n):\n",
    "    print(first)\n",
    "    temp = first\n",
    "    first = second\n",
    "    second = temp+first"
   ]
  },
  {
   "cell_type": "code",
   "execution_count": 5,
   "id": "9a3eb6f4",
   "metadata": {},
   "outputs": [
    {
     "name": "stdout",
     "output_type": "stream",
     "text": [
      "Enter value for a:10\n",
      "Enter value for b:20\n",
      "after swapping:\n",
      "value of a:  20\n",
      "value of b:  10\n"
     ]
    }
   ],
   "source": [
    "# with variable\n",
    "a= int(input(\"Enter value for a:\"))\n",
    "b = int(input(\"Enter value for b:\"))\n",
    "temp = a\n",
    "a = b\n",
    "b = temp\n",
    "print(\"after swapping:\")\n",
    "print(\"value of a: \", a)\n",
    "print(\"value of b: \", b)"
   ]
  },
  {
   "cell_type": "code",
   "execution_count": 6,
   "id": "22679bca",
   "metadata": {},
   "outputs": [
    {
     "name": "stdout",
     "output_type": "stream",
     "text": [
      "10\n",
      "even\n"
     ]
    }
   ],
   "source": [
    "#7.write a python program to find whether given number is even or odd print out an appropriate message to the user.\n",
    "a = int(input())\n",
    "if a%2==0:\n",
    "    print('even')\n",
    "else:\n",
    "    print('odd')"
   ]
  },
  {
   "cell_type": "code",
   "execution_count": 7,
   "id": "6232a92a",
   "metadata": {},
   "outputs": [
    {
     "name": "stdout",
     "output_type": "stream",
     "text": [
      "Enter the alphabets:a\n",
      "is a vowel\n"
     ]
    }
   ],
   "source": [
    "#8.write a python program to test test whether a passed letter is vowel or not\n",
    "a = input(\"Enter the alphabets:\")\n",
    "\n",
    "if a in ('a','e','i','o','u','A','E','I','O','U'):\n",
    "    print('is a vowel')\n",
    "else:\n",
    "    print('is a consonants')\n"
   ]
  },
  {
   "cell_type": "code",
   "execution_count": 8,
   "id": "fe0f7ffb",
   "metadata": {},
   "outputs": [
    {
     "name": "stdout",
     "output_type": "stream",
     "text": [
      "Enter a:10\n",
      "Enter b:10\n",
      "Enter c:20\n",
      "zero\n"
     ]
    }
   ],
   "source": [
    "#9.write a program to sum of three integers.however,if two values are equal sum will be zero.\n",
    "\n",
    "a = int(input(\"Enter a:\"))\n",
    "b = int(input(\"Enter b:\"))\n",
    "c = int(input(\"Enter c:\"))\n",
    "sum = a + b + c\n",
    "if a == b or b == c:\n",
    "    print(\"zero\")\n",
    "else:\n",
    "    print(\"sum is :\",sum)\n"
   ]
  },
  {
   "cell_type": "code",
   "execution_count": 9,
   "id": "ce95a861",
   "metadata": {},
   "outputs": [
    {
     "name": "stdout",
     "output_type": "stream",
     "text": [
      "Enter a:10\n",
      "Enter b:10\n",
      "true\n"
     ]
    }
   ],
   "source": [
    "#10.write a python program that will return true if the two given integer values are equal or their sum or difference is 5.\n",
    "\n",
    "a = int(input(\"Enter a:\"))\n",
    "b = int(input(\"Enter b:\"))\n",
    "sum= a + b\n",
    "c = a - b\n",
    "if a == b:\n",
    "    print(\"true\")\n",
    "elif a - b and a + b:\n",
    "    print(\"difference :\",c)\n",
    "    print(\"sum :\",sum)"
   ]
  },
  {
   "cell_type": "code",
   "execution_count": 10,
   "id": "d3d8ea2f",
   "metadata": {},
   "outputs": [
    {
     "name": "stdout",
     "output_type": "stream",
     "text": [
      "enter no :10\n",
      "55.0\n"
     ]
    }
   ],
   "source": [
    "#11.write a python program to sum of the first n positive integers.\n",
    "\n",
    "n = int(input(\"enter no :\"))\n",
    "sum = (n * (n + 1))/2\n",
    "print(sum)\n"
   ]
  },
  {
   "cell_type": "code",
   "execution_count": null,
   "id": "89f7a25d",
   "metadata": {},
   "outputs": [],
   "source": [
    "#12.What are negative indexes and why are they used?\n",
    "ans:The negative index is used to remove any new-line spaces from the string and allow the string to except the last character that is given as S[:-1]. The negative index is also used to show the index to represent the string in correct order."
   ]
  },
  {
   "cell_type": "code",
   "execution_count": 11,
   "id": "b9232bbf",
   "metadata": {},
   "outputs": [
    {
     "name": "stdout",
     "output_type": "stream",
     "text": [
      "7\n"
     ]
    }
   ],
   "source": [
    "#13.write a python program to calculate the length of a string.\n",
    "str = \"manisha\"\n",
    "print(len(str))"
   ]
  },
  {
   "cell_type": "code",
   "execution_count": 12,
   "id": "791d8e84",
   "metadata": {},
   "outputs": [
    {
     "name": "stdout",
     "output_type": "stream",
     "text": [
      "enter the string:manisha\n",
      "m 1 times\n",
      "a 2 times\n",
      "n 1 times\n",
      "i 1 times\n",
      "s 1 times\n",
      "h 1 times\n"
     ]
    }
   ],
   "source": [
    "#14.write a python program to count the number of character in a string.\n",
    "a = input('enter the string:')\n",
    "b = ''\n",
    "for i in a:\n",
    "    if i not in b:\n",
    "        b+=i\n",
    "        print(i,a.count(i),'times')"
   ]
  },
  {
   "cell_type": "code",
   "execution_count": 13,
   "id": "ea5f056a",
   "metadata": {},
   "outputs": [
    {
     "name": "stdout",
     "output_type": "stream",
     "text": [
      "enter the string:manisha valvi tank \n",
      "m = 1 times\n",
      "a = 4 times\n",
      "n = 2 times\n",
      "i = 2 times\n",
      "s = 1 times\n",
      "h = 1 times\n",
      "  = 3 times\n",
      "v = 2 times\n",
      "l = 1 times\n",
      "t = 1 times\n",
      "k = 1 times\n"
     ]
    }
   ],
   "source": [
    "#15.write a python program to count occurance of substring in a string.\n",
    "str1 = input('enter the string:')\n",
    "b = ''\n",
    "for i in str1:\n",
    "    if i not in b:\n",
    "        b+=i\n",
    "        print(i,'=',str1.count(i),'times')\n"
   ]
  },
  {
   "cell_type": "code",
   "execution_count": 14,
   "id": "58152d86",
   "metadata": {},
   "outputs": [
    {
     "name": "stdout",
     "output_type": "stream",
     "text": [
      "enter the string:bhavesh tank\n",
      "bhavesh = 1 times\n",
      "tank = 1 times\n"
     ]
    }
   ],
   "source": [
    "#16.write a python program to count the occurance each word in a given sentence.\n",
    "str1 = input('enter the string:')\n",
    "a = str1.split(' ')\n",
    "b = ''\n",
    "for i in a:\n",
    "    if i not in b:\n",
    "        b+=i\n",
    "        print(i,'=',str1.count(i),'times')\n"
   ]
  },
  {
   "cell_type": "code",
   "execution_count": 15,
   "id": "4010dc4e",
   "metadata": {},
   "outputs": [
    {
     "name": "stdout",
     "output_type": "stream",
     "text": [
      "rscd abtu\n"
     ]
    }
   ],
   "source": [
    "#17.write a python programto get single string from two given strings separated by a space and swap the first two character of each string.\n",
    "v2,v1 = \"abcd\",\"rstu\"\n",
    "temp = v2\n",
    "v2 = v1[0:2] + v2[2:]\n",
    "v1 = temp[0:2] + v1[2:]\n",
    "print(v2+' '+v1)"
   ]
  },
  {
   "cell_type": "code",
   "execution_count": 16,
   "id": "5347b388",
   "metadata": {},
   "outputs": [
    {
     "name": "stdout",
     "output_type": "stream",
     "text": [
      "abcing\n",
      "stringly\n",
      "st\n"
     ]
    }
   ],
   "source": [
    "#18.write a python program to add 'ing' at the end of a given string .if the given string already ends with 'ing' then add 'ly' instead if the string length of the given string is less than 3,leave it unchanged.\n",
    "\n",
    "s = \"abc\"\n",
    "if len(s)>2:\n",
    "    if s.endswith('ing'):\n",
    "        s +='ly'\n",
    "    else:\n",
    "        s +='ing'\n",
    "print(s)\n",
    "\n",
    "s = \"string\"\n",
    "if len(s)>2:\n",
    "    if s.endswith('ing'):\n",
    "        s +='ly'\n",
    "    else:\n",
    "        s +='ing'\n",
    "print(s)\n",
    "\n",
    "s = \"st\"\n",
    "if len(s)>2:\n",
    "    if s.endswith('ing'):\n",
    "        s +='ly'\n",
    "    else:\n",
    "        s +='ing'\n",
    "print(s)\n",
    "    \n",
    "    "
   ]
  },
  {
   "cell_type": "code",
   "execution_count": 17,
   "id": "72528e57",
   "metadata": {},
   "outputs": [
    {
     "name": "stdout",
     "output_type": "stream",
     "text": [
      "the lyrics is good\n"
     ]
    }
   ],
   "source": [
    "#19.write a python program  to find the  first appearance of the substring 'not' and 'poor' from given string ,if 'not' follows the poor,replace 'not 'poor' substring with 'good' returns the resulting string.\n",
    "\n",
    "str = 'the lyrics is not that poor'\n",
    "pos_not =str.find(\"not\")\n",
    "pos_poor =str.find(\"poor\")\n",
    "if pos_not<pos_poor:\n",
    "    print(str[:pos_not]+\"good\")\n",
    "\n"
   ]
  },
  {
   "cell_type": "code",
   "execution_count": 18,
   "id": "3a3f7f15",
   "metadata": {},
   "outputs": [
    {
     "name": "stdout",
     "output_type": "stream",
     "text": [
      "enter line of stringmanisha valvi tank\n",
      "largest string lenght= 7\n"
     ]
    }
   ],
   "source": [
    "#20.Write a Python function that takes a list of words and returns the length of the longest one.\n",
    "na = input(\"enter line of string\")\n",
    "n = na.split()\n",
    "largest = len(n[0])\n",
    "for i in n:\n",
    "    if len(i)>largest:\n",
    "        largest=len(i)\n",
    "print(\"largest string lenght=\",largest)"
   ]
  },
  {
   "cell_type": "code",
   "execution_count": 19,
   "id": "f903f133",
   "metadata": {},
   "outputs": [
    {
     "name": "stdout",
     "output_type": "stream",
     "text": [
      "dcba\n",
      "python\n"
     ]
    }
   ],
   "source": [
    "#21.Write a Python function to reverses a string if its length is a multiple of 4\n",
    "def reverse_string(str1):\n",
    "    if len(str1)%4==0:\n",
    "        return''.join(reversed(str1))\n",
    "    return str1\n",
    "print(reverse_string('abcd'))\n",
    "print(reverse_string('python'))"
   ]
  },
  {
   "cell_type": "code",
   "execution_count": 20,
   "id": "5dfdc24e",
   "metadata": {},
   "outputs": [
    {
     "name": "stdout",
     "output_type": "stream",
     "text": [
      "w3ce\n",
      "w3w3\n",
      "empty string\n"
     ]
    }
   ],
   "source": [
    "#22.Write a Python program to get a string made of the first 2 and the last 2 chars from a given a string. Ifthe string length islessthan 2,return insteadof the empty string.\n",
    "given_string='w3resource'\n",
    "if len(given_string)<2:\n",
    "    print('empty string')\n",
    "else:\n",
    "    final = given_string[:2] + given_string[-2:]\n",
    "    print(final)\n",
    "    \n",
    "given_string='w3'\n",
    "if len(given_string)<2:\n",
    "    print('empty string')\n",
    "else:\n",
    "    final = given_string[:2] + given_string[-2:]\n",
    "    print(final)\n",
    "    \n",
    "given_string=' '\n",
    "if len(given_string)<2:\n",
    "    print('empty string')\n",
    "else:\n",
    "    final = given_string[:2] + given_string[-2:]\n",
    "    print(final)"
   ]
  },
  {
   "cell_type": "code",
   "execution_count": 21,
   "id": "2c7c905d",
   "metadata": {},
   "outputs": [
    {
     "name": "stdout",
     "output_type": "stream",
     "text": [
      "python\n"
     ]
    }
   ],
   "source": [
    "#23.write a python function to insert a string in the middle of a string.\n",
    "\n",
    "def insert_string_middle(str,word):\n",
    "    return str[:2] + word + str[2:]\n",
    "print(insert_string_middle('','python'))\n"
   ]
  }
 ],
 "metadata": {
  "kernelspec": {
   "display_name": "Python 3 (ipykernel)",
   "language": "python",
   "name": "python3"
  },
  "language_info": {
   "codemirror_mode": {
    "name": "ipython",
    "version": 3
   },
   "file_extension": ".py",
   "mimetype": "text/x-python",
   "name": "python",
   "nbconvert_exporter": "python",
   "pygments_lexer": "ipython3",
   "version": "3.9.12"
  }
 },
 "nbformat": 4,
 "nbformat_minor": 5
}
